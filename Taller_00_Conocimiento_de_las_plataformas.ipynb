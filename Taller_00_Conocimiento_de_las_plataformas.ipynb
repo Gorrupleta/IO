{
  "nbformat": 4,
  "nbformat_minor": 0,
  "metadata": {
    "colab": {
      "provenance": [],
      "authorship_tag": "ABX9TyPrMQpuCaiaiuA2ngm5wCAX",
      "include_colab_link": true
    },
    "kernelspec": {
      "name": "python3",
      "display_name": "Python 3"
    },
    "language_info": {
      "name": "python"
    }
  },
  "cells": [
    {
      "cell_type": "markdown",
      "metadata": {
        "id": "view-in-github",
        "colab_type": "text"
      },
      "source": [
        "<a href=\"https://colab.research.google.com/github/Gorrupleta/IO/blob/main/Taller_00_Conocimiento_de_las_plataformas.ipynb\" target=\"_parent\"><img src=\"https://colab.research.google.com/assets/colab-badge.svg\" alt=\"Open In Colab\"/></a>"
      ]
    },
    {
      "cell_type": "markdown",
      "source": [
        "# Esto es un titulo\n",
        "\n",
        "**hola**"
      ],
      "metadata": {
        "id": "pTlOw-jQVevN"
      }
    },
    {
      "cell_type": "markdown",
      "source": [
        "## Esto es un subtitulo"
      ],
      "metadata": {
        "id": "9dlIS-7YVplM"
      }
    },
    {
      "cell_type": "markdown",
      "source": [
        "# Esto es otro titulo"
      ],
      "metadata": {
        "id": "OCzIvRG-Vz3c"
      }
    },
    {
      "cell_type": "code",
      "source": [
        "print (\"Hola, mundo\")\n",
        "\n",
        "\n"
      ],
      "metadata": {
        "colab": {
          "base_uri": "https://localhost:8080/"
        },
        "id": "KmbEU2q3V-Us",
        "outputId": "f58648e6-a91f-46dd-8529-baf9fca18004"
      },
      "execution_count": null,
      "outputs": [
        {
          "output_type": "stream",
          "name": "stdout",
          "text": [
            "Hola, mundo\n"
          ]
        }
      ]
    },
    {
      "cell_type": "code",
      "source": [],
      "metadata": {
        "id": "i907owHSWDSV"
      },
      "execution_count": null,
      "outputs": []
    }
  ]
}